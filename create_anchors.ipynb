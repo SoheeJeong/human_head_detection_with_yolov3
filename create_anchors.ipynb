{
 "cells": [
  {
   "cell_type": "code",
   "execution_count": 1,
   "metadata": {},
   "outputs": [
    {
     "name": "stdout",
     "output_type": "stream",
     "text": [
      "K anchors:\n",
      " [[ 24  27]\n",
      " [ 38  43]\n",
      " [ 53  60]\n",
      " [ 69  82]\n",
      " [ 90 105]\n",
      " [114 130]\n",
      " [139 160]\n",
      " [176 198]\n",
      " [249 259]]\n",
      "Accuracy: 82.31%\n"
     ]
    }
   ],
   "source": [
    "from kmeans import YOLO_Kmeans\n",
    "\n",
    "kmeans = YOLO_Kmeans(9,'train.txt')\n",
    "# kmeans = YOLO_Kmeans(cluster_number, filename)\n",
    "kmeans.txt2clusters()"
   ]
  },
  {
   "cell_type": "code",
   "execution_count": null,
   "metadata": {},
   "outputs": [],
   "source": []
  }
 ],
 "metadata": {
  "kernelspec": {
   "display_name": "Python 3",
   "language": "python",
   "name": "python3"
  },
  "language_info": {
   "codemirror_mode": {
    "name": "ipython",
    "version": 3
   },
   "file_extension": ".py",
   "mimetype": "text/x-python",
   "name": "python",
   "nbconvert_exporter": "python",
   "pygments_lexer": "ipython3",
   "version": "3.6.9"
  }
 },
 "nbformat": 4,
 "nbformat_minor": 4
}
