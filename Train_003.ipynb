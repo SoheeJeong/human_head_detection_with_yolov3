{
 "cells": [
  {
   "cell_type": "markdown",
   "metadata": {},
   "source": [
    "anchor 수정함"
   ]
  },
  {
   "cell_type": "code",
   "execution_count": 1,
   "metadata": {},
   "outputs": [
    {
     "name": "stdout",
     "output_type": "stream",
     "text": [
      "/usr/local/lib/python3.6/dist-packages/tensorflow/python/framework/dtypes.py:517: FutureWarning: Passing (type, 1) or '1type' as a synonym of type is deprecated; in a future version of numpy, it will be understood as (type, (1,)) / '(1,)type'.\n",
      "  _np_qint8 = np.dtype([(\"qint8\", np.int8, 1)])\n",
      "/usr/local/lib/python3.6/dist-packages/tensorflow/python/framework/dtypes.py:518: FutureWarning: Passing (type, 1) or '1type' as a synonym of type is deprecated; in a future version of numpy, it will be understood as (type, (1,)) / '(1,)type'.\n",
      "  _np_quint8 = np.dtype([(\"quint8\", np.uint8, 1)])\n",
      "/usr/local/lib/python3.6/dist-packages/tensorflow/python/framework/dtypes.py:519: FutureWarning: Passing (type, 1) or '1type' as a synonym of type is deprecated; in a future version of numpy, it will be understood as (type, (1,)) / '(1,)type'.\n",
      "  _np_qint16 = np.dtype([(\"qint16\", np.int16, 1)])\n",
      "/usr/local/lib/python3.6/dist-packages/tensorflow/python/framework/dtypes.py:520: FutureWarning: Passing (type, 1) or '1type' as a synonym of type is deprecated; in a future version of numpy, it will be understood as (type, (1,)) / '(1,)type'.\n",
      "  _np_quint16 = np.dtype([(\"quint16\", np.uint16, 1)])\n",
      "/usr/local/lib/python3.6/dist-packages/tensorflow/python/framework/dtypes.py:521: FutureWarning: Passing (type, 1) or '1type' as a synonym of type is deprecated; in a future version of numpy, it will be understood as (type, (1,)) / '(1,)type'.\n",
      "  _np_qint32 = np.dtype([(\"qint32\", np.int32, 1)])\n",
      "/usr/local/lib/python3.6/dist-packages/tensorflow/python/framework/dtypes.py:526: FutureWarning: Passing (type, 1) or '1type' as a synonym of type is deprecated; in a future version of numpy, it will be understood as (type, (1,)) / '(1,)type'.\n",
      "  np_resource = np.dtype([(\"resource\", np.ubyte, 1)])\n",
      "Using TensorFlow backend.\n",
      "2020-10-27 01:39:23.658532: I tensorflow/core/platform/cpu_feature_guard.cc:140] Your CPU supports instructions that this TensorFlow binary was not compiled to use: AVX2 FMA\n",
      "Create YOLOv3 model with 9 anchors and 1 classes.\n",
      "Load weights model_data/yolo_face_weights.h5.\n",
      "Freeze the first 249 layers of total 252 layers.\n",
      "Train on 10835 samples, val on 671 samples, with batch size 32.\n",
      "Epoch 1/20\n",
      "338/338 [==============================] - 4822s 14s/step - loss: 22.4712 - val_loss: 23.7064\n",
      "Epoch 2/20\n",
      "338/338 [==============================] - 4623s 14s/step - loss: 21.0434 - val_loss: 23.2192\n",
      "Epoch 3/20\n",
      "338/338 [==============================] - 3239s 10s/step - loss: 20.6502 - val_loss: 22.8351\n",
      "Epoch 4/20\n",
      "338/338 [==============================] - 3132s 9s/step - loss: 20.4504 - val_loss: 22.8004\n",
      "Epoch 5/20\n",
      "338/338 [==============================] - 3131s 9s/step - loss: 20.4079 - val_loss: 22.7534\n",
      "Epoch 6/20\n",
      "338/338 [==============================] - 3129s 9s/step - loss: 20.3265 - val_loss: 22.2316\n",
      "Epoch 7/20\n",
      "338/338 [==============================] - 3136s 9s/step - loss: 20.2096 - val_loss: 22.6108\n",
      "Epoch 8/20\n",
      "338/338 [==============================] - 3130s 9s/step - loss: 20.1819 - val_loss: 22.6141\n",
      "Epoch 9/20\n",
      "338/338 [==============================] - 3131s 9s/step - loss: 20.1648 - val_loss: 23.2209\n",
      "Epoch 10/20\n",
      "338/338 [==============================] - 3132s 9s/step - loss: 20.1700 - val_loss: 22.5682\n",
      "Epoch 11/20\n",
      "338/338 [==============================] - 3131s 9s/step - loss: 20.1719 - val_loss: 22.9074\n",
      "Epoch 12/20\n",
      "338/338 [==============================] - 3129s 9s/step - loss: 20.0825 - val_loss: 21.8140\n",
      "Epoch 13/20\n",
      "338/338 [==============================] - 3129s 9s/step - loss: 20.1007 - val_loss: 22.6844\n",
      "Epoch 14/20\n",
      "338/338 [==============================] - 3129s 9s/step - loss: 20.0666 - val_loss: 22.9596\n",
      "Epoch 15/20\n",
      "338/338 [==============================] - 3128s 9s/step - loss: 20.0632 - val_loss: 22.3615\n",
      "Epoch 16/20\n",
      "338/338 [==============================] - 3129s 9s/step - loss: 20.0901 - val_loss: 23.1080\n",
      "Epoch 17/20\n",
      "338/338 [==============================] - 3131s 9s/step - loss: 20.0777 - val_loss: 22.6230\n",
      "Epoch 18/20\n",
      "338/338 [==============================] - 3129s 9s/step - loss: 20.0850 - val_loss: 22.4476\n",
      "Epoch 19/20\n",
      "338/338 [==============================] - 3130s 9s/step - loss: 20.0179 - val_loss: 22.9550\n",
      "Epoch 20/20\n",
      "338/338 [==============================] - 3130s 9s/step - loss: 19.9917 - val_loss: 22.9007\n",
      "Traceback (most recent call last):\n",
      "  File \"train.py\", line 209, in <module>\n",
      "    if __name__ == '__main__':\n",
      "  File \"train.py\", line 79, in _main\n",
      "    with tf.device('/gpu:0'):\n",
      "NameError: name 'model_body' is not defined\n"
     ]
    }
   ],
   "source": [
    "!python train.py"
   ]
  },
  {
   "cell_type": "code",
   "execution_count": null,
   "metadata": {},
   "outputs": [],
   "source": []
  }
 ],
 "metadata": {
  "kernelspec": {
   "display_name": "Python 3",
   "language": "python",
   "name": "python3"
  },
  "language_info": {
   "codemirror_mode": {
    "name": "ipython",
    "version": 3
   },
   "file_extension": ".py",
   "mimetype": "text/x-python",
   "name": "python",
   "nbconvert_exporter": "python",
   "pygments_lexer": "ipython3",
   "version": "3.6.9"
  }
 },
 "nbformat": 4,
 "nbformat_minor": 4
}
