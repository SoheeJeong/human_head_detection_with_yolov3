{
 "cells": [
  {
   "cell_type": "code",
   "execution_count": 1,
   "metadata": {},
   "outputs": [
    {
     "name": "stdout",
     "output_type": "stream",
     "text": [
      "/usr/local/lib/python3.6/dist-packages/tensorflow/python/framework/dtypes.py:517: FutureWarning: Passing (type, 1) or '1type' as a synonym of type is deprecated; in a future version of numpy, it will be understood as (type, (1,)) / '(1,)type'.\n",
      "  _np_qint8 = np.dtype([(\"qint8\", np.int8, 1)])\n",
      "/usr/local/lib/python3.6/dist-packages/tensorflow/python/framework/dtypes.py:518: FutureWarning: Passing (type, 1) or '1type' as a synonym of type is deprecated; in a future version of numpy, it will be understood as (type, (1,)) / '(1,)type'.\n",
      "  _np_quint8 = np.dtype([(\"quint8\", np.uint8, 1)])\n",
      "/usr/local/lib/python3.6/dist-packages/tensorflow/python/framework/dtypes.py:519: FutureWarning: Passing (type, 1) or '1type' as a synonym of type is deprecated; in a future version of numpy, it will be understood as (type, (1,)) / '(1,)type'.\n",
      "  _np_qint16 = np.dtype([(\"qint16\", np.int16, 1)])\n",
      "/usr/local/lib/python3.6/dist-packages/tensorflow/python/framework/dtypes.py:520: FutureWarning: Passing (type, 1) or '1type' as a synonym of type is deprecated; in a future version of numpy, it will be understood as (type, (1,)) / '(1,)type'.\n",
      "  _np_quint16 = np.dtype([(\"quint16\", np.uint16, 1)])\n",
      "/usr/local/lib/python3.6/dist-packages/tensorflow/python/framework/dtypes.py:521: FutureWarning: Passing (type, 1) or '1type' as a synonym of type is deprecated; in a future version of numpy, it will be understood as (type, (1,)) / '(1,)type'.\n",
      "  _np_qint32 = np.dtype([(\"qint32\", np.int32, 1)])\n",
      "/usr/local/lib/python3.6/dist-packages/tensorflow/python/framework/dtypes.py:526: FutureWarning: Passing (type, 1) or '1type' as a synonym of type is deprecated; in a future version of numpy, it will be understood as (type, (1,)) / '(1,)type'.\n",
      "  np_resource = np.dtype([(\"resource\", np.ubyte, 1)])\n",
      "Using TensorFlow backend.\n",
      "2020-10-26 00:47:35.268734: I tensorflow/core/platform/cpu_feature_guard.cc:140] Your CPU supports instructions that this TensorFlow binary was not compiled to use: AVX2 FMA\n",
      "Create YOLOv3 model with 9 anchors and 1 classes.\n",
      "Load weights model_data/yolo_face_weights.h5.\n",
      "Freeze the first 249 layers of total 252 layers.\n",
      "Train on 2167 samples, val on 671 samples, with batch size 32.\n",
      "Epoch 1/20\n",
      "67/67 [==============================] - 763s 11s/step - loss: 24.3982 - val_loss: 24.7329\n",
      "Epoch 2/20\n",
      "67/67 [==============================] - 761s 11s/step - loss: 21.1170 - val_loss: 23.5464\n",
      "Epoch 3/20\n",
      "67/67 [==============================] - 754s 11s/step - loss: 20.3534 - val_loss: 23.1183\n",
      "Epoch 4/20\n",
      "67/67 [==============================] - 754s 11s/step - loss: 20.0628 - val_loss: 22.7688\n",
      "Epoch 5/20\n",
      "67/67 [==============================] - 755s 11s/step - loss: 19.8372 - val_loss: 22.8573\n",
      "Epoch 6/20\n",
      "67/67 [==============================] - 817s 12s/step - loss: 19.6620 - val_loss: 22.0023\n",
      "Epoch 7/20\n",
      "67/67 [==============================] - 842s 13s/step - loss: 19.6165 - val_loss: 22.0901\n",
      "Epoch 8/20\n",
      "67/67 [==============================] - 790s 12s/step - loss: 19.5001 - val_loss: 22.1607\n",
      "Epoch 9/20\n",
      "67/67 [==============================] - 844s 13s/step - loss: 19.3227 - val_loss: 22.1676\n",
      "Epoch 10/20\n",
      "67/67 [==============================] - 840s 13s/step - loss: 19.2624 - val_loss: 21.9670\n",
      "Epoch 11/20\n",
      "67/67 [==============================] - 839s 13s/step - loss: 19.4113 - val_loss: 21.7696\n",
      "Epoch 12/20\n",
      "67/67 [==============================] - 839s 13s/step - loss: 19.2861 - val_loss: 21.8452\n",
      "Epoch 13/20\n",
      "67/67 [==============================] - 835s 12s/step - loss: 19.2545 - val_loss: 22.2225\n",
      "Epoch 14/20\n",
      "67/67 [==============================] - 837s 12s/step - loss: 19.1642 - val_loss: 21.6025\n",
      "Epoch 15/20\n",
      "67/67 [==============================] - 837s 12s/step - loss: 19.0921 - val_loss: 21.4384\n",
      "Epoch 16/20\n",
      "67/67 [==============================] - 836s 12s/step - loss: 19.1251 - val_loss: 21.8780\n",
      "Epoch 17/20\n",
      "67/67 [==============================] - 825s 12s/step - loss: 18.8546 - val_loss: 21.8172\n",
      "Epoch 18/20\n",
      "67/67 [==============================] - 826s 12s/step - loss: 18.9074 - val_loss: 21.5641\n",
      "Epoch 19/20\n",
      "67/67 [==============================] - 845s 13s/step - loss: 18.8612 - val_loss: 21.7943\n",
      "Epoch 20/20\n",
      "67/67 [==============================] - 839s 13s/step - loss: 18.8408 - val_loss: 21.9071\n",
      "Train on 2167 samples, val on 671 samples, with batch size 32.\n",
      "Epoch 21/50\n",
      "67/67 [==============================] - 836s 12s/step - loss: 19.0409 - val_loss: 21.5754\n",
      "Epoch 22/50\n",
      "67/67 [==============================] - 785s 12s/step - loss: 18.8574 - val_loss: 21.5524\n",
      "Epoch 23/50\n",
      "67/67 [==============================] - 812s 12s/step - loss: 18.8369 - val_loss: 21.3943\n",
      "Epoch 24/50\n",
      "67/67 [==============================] - 811s 12s/step - loss: 18.7557 - val_loss: 21.6946\n",
      "Epoch 25/50\n",
      "67/67 [==============================] - 807s 12s/step - loss: 18.7867 - val_loss: 21.7740\n",
      "Epoch 26/50\n",
      "67/67 [==============================] - 809s 12s/step - loss: 18.8508 - val_loss: 21.9527\n",
      "Epoch 27/50\n",
      "66/67 [============================>.] - ETA: 9s - loss: 19.0179 ^C\n"
     ]
    }
   ],
   "source": [
    "!python train.py"
   ]
  },
  {
   "cell_type": "code",
   "execution_count": null,
   "metadata": {},
   "outputs": [],
   "source": []
  }
 ],
 "metadata": {
  "kernelspec": {
   "display_name": "Python 3",
   "language": "python",
   "name": "python3"
  },
  "language_info": {
   "codemirror_mode": {
    "name": "ipython",
    "version": 3
   },
   "file_extension": ".py",
   "mimetype": "text/x-python",
   "name": "python",
   "nbconvert_exporter": "python",
   "pygments_lexer": "ipython3",
   "version": "3.6.9"
  }
 },
 "nbformat": 4,
 "nbformat_minor": 4
}
