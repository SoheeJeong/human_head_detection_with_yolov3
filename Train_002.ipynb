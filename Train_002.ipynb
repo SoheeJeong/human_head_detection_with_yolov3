{
 "cells": [
  {
   "cell_type": "code",
   "execution_count": 1,
   "metadata": {
    "scrolled": true
   },
   "outputs": [
    {
     "name": "stdout",
     "output_type": "stream",
     "text": [
      "/usr/local/lib/python3.6/dist-packages/tensorflow/python/framework/dtypes.py:517: FutureWarning: Passing (type, 1) or '1type' as a synonym of type is deprecated; in a future version of numpy, it will be understood as (type, (1,)) / '(1,)type'.\n",
      "  _np_qint8 = np.dtype([(\"qint8\", np.int8, 1)])\n",
      "/usr/local/lib/python3.6/dist-packages/tensorflow/python/framework/dtypes.py:518: FutureWarning: Passing (type, 1) or '1type' as a synonym of type is deprecated; in a future version of numpy, it will be understood as (type, (1,)) / '(1,)type'.\n",
      "  _np_quint8 = np.dtype([(\"quint8\", np.uint8, 1)])\n",
      "/usr/local/lib/python3.6/dist-packages/tensorflow/python/framework/dtypes.py:519: FutureWarning: Passing (type, 1) or '1type' as a synonym of type is deprecated; in a future version of numpy, it will be understood as (type, (1,)) / '(1,)type'.\n",
      "  _np_qint16 = np.dtype([(\"qint16\", np.int16, 1)])\n",
      "/usr/local/lib/python3.6/dist-packages/tensorflow/python/framework/dtypes.py:520: FutureWarning: Passing (type, 1) or '1type' as a synonym of type is deprecated; in a future version of numpy, it will be understood as (type, (1,)) / '(1,)type'.\n",
      "  _np_quint16 = np.dtype([(\"quint16\", np.uint16, 1)])\n",
      "/usr/local/lib/python3.6/dist-packages/tensorflow/python/framework/dtypes.py:521: FutureWarning: Passing (type, 1) or '1type' as a synonym of type is deprecated; in a future version of numpy, it will be understood as (type, (1,)) / '(1,)type'.\n",
      "  _np_qint32 = np.dtype([(\"qint32\", np.int32, 1)])\n",
      "/usr/local/lib/python3.6/dist-packages/tensorflow/python/framework/dtypes.py:526: FutureWarning: Passing (type, 1) or '1type' as a synonym of type is deprecated; in a future version of numpy, it will be understood as (type, (1,)) / '(1,)type'.\n",
      "  np_resource = np.dtype([(\"resource\", np.ubyte, 1)])\n",
      "Using TensorFlow backend.\n",
      "2020-10-26 07:50:29.013203: I tensorflow/core/platform/cpu_feature_guard.cc:140] Your CPU supports instructions that this TensorFlow binary was not compiled to use: AVX2 FMA\n",
      "Create YOLOv3 model with 9 anchors and 1 classes.\n",
      "Load weights model_data/yolo_face_weights.h5.\n",
      "Freeze the first 249 layers of total 252 layers.\n",
      "Train on 10835 samples, val on 671 samples, with batch size 32.\n",
      "Epoch 1/20\n",
      "338/338 [==============================] - 3920s 12s/step - loss: 21.3499 - val_loss: 22.5104\n",
      "Epoch 2/20\n",
      "338/338 [==============================] - 3404s 10s/step - loss: 19.5770 - val_loss: 22.3461\n",
      "Epoch 3/20\n",
      "338/338 [==============================] - 3400s 10s/step - loss: 19.2918 - val_loss: 21.9712\n",
      "Epoch 4/20\n",
      "338/338 [==============================] - 3407s 10s/step - loss: 19.1160 - val_loss: 21.8419\n",
      "Epoch 5/20\n",
      "338/338 [==============================] - 3405s 10s/step - loss: 19.0698 - val_loss: 21.7826\n",
      "Epoch 6/20\n",
      "338/338 [==============================] - 3387s 10s/step - loss: 18.9674 - val_loss: 21.6777\n",
      "Epoch 7/20\n",
      "338/338 [==============================] - 3172s 9s/step - loss: 18.8906 - val_loss: 21.5471\n",
      "Epoch 8/20\n",
      "338/338 [==============================] - 3170s 9s/step - loss: 18.9680 - val_loss: 21.5253\n",
      "Epoch 9/20\n",
      "338/338 [==============================] - 3171s 9s/step - loss: 18.8794 - val_loss: 21.3455\n",
      "Epoch 10/20\n",
      "338/338 [==============================] - 3171s 9s/step - loss: 18.8870 - val_loss: 21.0398\n",
      "Epoch 11/20\n",
      "338/338 [==============================] - 3171s 9s/step - loss: 18.8296 - val_loss: 21.5293\n",
      "Epoch 12/20\n",
      "338/338 [==============================] - 3169s 9s/step - loss: 18.8976 - val_loss: 21.7421\n",
      "Epoch 13/20\n",
      "338/338 [==============================] - 3170s 9s/step - loss: 18.8450 - val_loss: 21.6674\n",
      "Epoch 14/20\n",
      "338/338 [==============================] - 3170s 9s/step - loss: 18.8578 - val_loss: 21.2992\n",
      "Epoch 15/20\n",
      "338/338 [==============================] - 3169s 9s/step - loss: 18.7991 - val_loss: 21.5109\n",
      "Epoch 16/20\n",
      "338/338 [==============================] - 3171s 9s/step - loss: 18.7843 - val_loss: 21.7144\n",
      "Epoch 17/20\n",
      "338/338 [==============================] - 3169s 9s/step - loss: 18.8526 - val_loss: 21.7797\n",
      "Epoch 18/20\n",
      "338/338 [==============================] - 3168s 9s/step - loss: 18.7785 - val_loss: 21.3651\n",
      "Epoch 19/20\n",
      "338/338 [==============================] - 3174s 9s/step - loss: 18.7923 - val_loss: 21.5212\n",
      "Epoch 20/20\n",
      "338/338 [==============================] - 3779s 11s/step - loss: 18.8242 - val_loss: 21.3676\n",
      "Train on 10835 samples, val on 671 samples, with batch size 32.\n",
      "Epoch 21/50\n",
      "338/338 [==============================] - 4813s 14s/step - loss: 18.7146 - val_loss: 21.0828\n",
      "Epoch 22/50\n",
      "163/338 [=============>................] - ETA: 39:11 - loss: 18.6109^C\n"
     ]
    }
   ],
   "source": [
    "!python train_002.py"
   ]
  },
  {
   "cell_type": "code",
   "execution_count": null,
   "metadata": {},
   "outputs": [],
   "source": []
  }
 ],
 "metadata": {
  "kernelspec": {
   "display_name": "Python 3",
   "language": "python",
   "name": "python3"
  },
  "language_info": {
   "codemirror_mode": {
    "name": "ipython",
    "version": 3
   },
   "file_extension": ".py",
   "mimetype": "text/x-python",
   "name": "python",
   "nbconvert_exporter": "python",
   "pygments_lexer": "ipython3",
   "version": "3.6.9"
  }
 },
 "nbformat": 4,
 "nbformat_minor": 4
}
